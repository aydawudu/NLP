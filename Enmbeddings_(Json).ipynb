{
  "nbformat": 4,
  "nbformat_minor": 0,
  "metadata": {
    "colab": {
      "name": "Enmbeddings (Json).ipynb",
      "provenance": [],
      "collapsed_sections": [],
      "include_colab_link": true
    },
    "kernelspec": {
      "name": "python3",
      "display_name": "Python 3"
    },
    "accelerator": "GPU"
  },
  "cells": [
    {
      "cell_type": "markdown",
      "metadata": {
        "id": "view-in-github",
        "colab_type": "text"
      },
      "source": [
        "<a href=\"https://colab.research.google.com/github/aydawudu/NLP/blob/main/Enmbeddings_(Json).ipynb\" target=\"_parent\"><img src=\"https://colab.research.google.com/assets/colab-badge.svg\" alt=\"Open In Colab\"/></a>"
      ]
    },
    {
      "cell_type": "code",
      "metadata": {
        "id": "YY54YEOZPZdw"
      },
      "source": [
        "import json\n",
        "import tensorflow as tf\n",
        "import numpy as np\n",
        "\n",
        "\n",
        "from tensorflow.keras.preprocessing.text import Tokenizer\n",
        "from tensorflow.keras.preprocessing.sequence import pad_sequences"
      ],
      "execution_count": null,
      "outputs": []
    },
    {
      "cell_type": "code",
      "metadata": {
        "id": "lN2iNiFuPrnh"
      },
      "source": [
        "vocab_size=10000\n",
        "embedding_dim=16\n",
        "max_length=100\n",
        "trunc_type='post'\n",
        "padding_type='post'\n",
        "oov_tok=\"<OOV>\"\n",
        "training_size=20000"
      ],
      "execution_count": null,
      "outputs": []
    },
    {
      "cell_type": "code",
      "metadata": {
        "colab": {
          "base_uri": "https://localhost:8080/"
        },
        "id": "ULv9fVmNPsSk",
        "outputId": "46fcaf8b-2f06-40d2-c285-00a34081e21b"
      },
      "source": [
        "!wget --no-check-certificate \\\n",
        "    https://storage.googleapis.com/laurencemoroney-blog.appspot.com/sarcasm.json \\\n",
        "    -O /tmp/sarcasm.json"
      ],
      "execution_count": null,
      "outputs": [
        {
          "output_type": "stream",
          "name": "stdout",
          "text": [
            "--2021-12-06 22:34:13--  https://storage.googleapis.com/laurencemoroney-blog.appspot.com/sarcasm.json\n",
            "Resolving storage.googleapis.com (storage.googleapis.com)... 64.233.191.128, 173.194.192.128, 209.85.145.128, ...\n",
            "Connecting to storage.googleapis.com (storage.googleapis.com)|64.233.191.128|:443... connected.\n",
            "HTTP request sent, awaiting response... 200 OK\n",
            "Length: 5643545 (5.4M) [application/json]\n",
            "Saving to: ‘/tmp/sarcasm.json’\n",
            "\n",
            "\r/tmp/sarcasm.json     0%[                    ]       0  --.-KB/s               \r/tmp/sarcasm.json   100%[===================>]   5.38M  --.-KB/s    in 0.04s   \n",
            "\n",
            "2021-12-06 22:34:13 (126 MB/s) - ‘/tmp/sarcasm.json’ saved [5643545/5643545]\n",
            "\n"
          ]
        }
      ]
    },
    {
      "cell_type": "code",
      "metadata": {
        "id": "YsApBJY6Q1Sz"
      },
      "source": [
        "with open(\"/tmp/sarcasm.json\", 'r') as f:\n",
        "  datastore=json.load(f)\n",
        "\n",
        "sentences=[]\n",
        "labels=[]\n",
        "\n",
        "for item in datastore:\n",
        "  sentences.append(item['headline'])\n",
        "  labels.append(item['is_sarcastic'])"
      ],
      "execution_count": null,
      "outputs": []
    },
    {
      "cell_type": "code",
      "metadata": {
        "id": "21HEsVW2VM2l"
      },
      "source": [
        "training_sentences=sentences[0:training_size]\n",
        "testing_sentences=sentences[training_size:]\n",
        "training_labels=labels[0:training_size]\n",
        "testing_labels=labels[training_size:]"
      ],
      "execution_count": null,
      "outputs": []
    },
    {
      "cell_type": "code",
      "metadata": {
        "id": "W8kCQagaViNn"
      },
      "source": [
        "tokenizer=Tokenizer(num_words=vocab_size, oov_token=oov_tok)\n",
        "tokenizer.fit_on_texts(training_sentences)\n",
        "\n",
        "word_index=tokenizer.word_index\n",
        "\n",
        "training_sequences=tokenizer.texts_to_sequences(training_sentences)\n",
        "training_padded=pad_sequences(training_sequences, maxlen=max_length, padding=padding_type, truncating=trunc_type)\n",
        "\n",
        "testing_sequences=tokenizer.texts_to_sequences(testing_sentences)\n",
        "testing_padded=pad_sequences(testing_sequences, maxlen=max_length, padding=padding_type, truncating=trunc_type)"
      ],
      "execution_count": null,
      "outputs": []
    },
    {
      "cell_type": "code",
      "metadata": {
        "id": "k-T7YHN3cn5I"
      },
      "source": [
        "model=tf.keras.Sequential([\n",
        "  tf.keras.layers.Embedding(vocab_size, embedding_dim, input_length=max_length),\n",
        "  tf.keras.layers.GlobalAveragePooling1D(),\n",
        "  tf.keras.layers.Dense(24, activation='relu'),\n",
        "  tf.keras.layers.Dense(1, activation='sigmoid')\n",
        "])\n",
        "\n",
        "model.compile(loss='binary_crossentropy', optimizer='adam', metrics=['accuracy'])"
      ],
      "execution_count": null,
      "outputs": []
    },
    {
      "cell_type": "code",
      "metadata": {
        "colab": {
          "base_uri": "https://localhost:8080/"
        },
        "id": "eb_mKpohdR3c",
        "outputId": "48dbf33d-e244-4f08-d56d-8c860532c395"
      },
      "source": [
        "model.summary()"
      ],
      "execution_count": null,
      "outputs": [
        {
          "output_type": "stream",
          "name": "stdout",
          "text": [
            "Model: \"sequential\"\n",
            "_________________________________________________________________\n",
            " Layer (type)                Output Shape              Param #   \n",
            "=================================================================\n",
            " embedding (Embedding)       (None, 100, 16)           160000    \n",
            "                                                                 \n",
            " global_average_pooling1d (G  (None, 16)               0         \n",
            " lobalAveragePooling1D)                                          \n",
            "                                                                 \n",
            " dense (Dense)               (None, 24)                408       \n",
            "                                                                 \n",
            " dense_1 (Dense)             (None, 1)                 25        \n",
            "                                                                 \n",
            "=================================================================\n",
            "Total params: 160,433\n",
            "Trainable params: 160,433\n",
            "Non-trainable params: 0\n",
            "_________________________________________________________________\n"
          ]
        }
      ]
    },
    {
      "cell_type": "code",
      "metadata": {
        "id": "J1DiUlDPd5_A"
      },
      "source": [
        "training_padded = np.array(training_padded)\n",
        "training_labels = np.array(training_labels)\n",
        "testing_padded = np.array(testing_padded)\n",
        "testing_labels = np.array(testing_labels)"
      ],
      "execution_count": null,
      "outputs": []
    },
    {
      "cell_type": "code",
      "metadata": {
        "colab": {
          "base_uri": "https://localhost:8080/"
        },
        "id": "CiNhrGyHdW_E",
        "outputId": "2964181b-7b3f-40bf-b8a6-c907beea4abb"
      },
      "source": [
        "num_epochs=30\n",
        "history=model.fit(training_padded, training_labels, epochs=num_epochs, validation_data=(testing_padded, testing_labels), verbose=2)"
      ],
      "execution_count": null,
      "outputs": [
        {
          "output_type": "stream",
          "name": "stdout",
          "text": [
            "Epoch 1/30\n",
            "625/625 - 6s - loss: 0.6775 - accuracy: 0.5611 - val_loss: 0.6404 - val_accuracy: 0.7332 - 6s/epoch - 9ms/step\n",
            "Epoch 2/30\n",
            "625/625 - 3s - loss: 0.4812 - accuracy: 0.8077 - val_loss: 0.4110 - val_accuracy: 0.8219 - 3s/epoch - 5ms/step\n",
            "Epoch 3/30\n",
            "625/625 - 3s - loss: 0.3313 - accuracy: 0.8683 - val_loss: 0.3596 - val_accuracy: 0.8492 - 3s/epoch - 5ms/step\n",
            "Epoch 4/30\n",
            "625/625 - 3s - loss: 0.2761 - accuracy: 0.8921 - val_loss: 0.3451 - val_accuracy: 0.8560 - 3s/epoch - 5ms/step\n",
            "Epoch 5/30\n",
            "625/625 - 3s - loss: 0.2403 - accuracy: 0.9074 - val_loss: 0.3422 - val_accuracy: 0.8548 - 3s/epoch - 5ms/step\n",
            "Epoch 6/30\n",
            "625/625 - 3s - loss: 0.2117 - accuracy: 0.9187 - val_loss: 0.3503 - val_accuracy: 0.8542 - 3s/epoch - 5ms/step\n",
            "Epoch 7/30\n",
            "625/625 - 3s - loss: 0.1890 - accuracy: 0.9286 - val_loss: 0.3548 - val_accuracy: 0.8505 - 3s/epoch - 5ms/step\n",
            "Epoch 8/30\n",
            "625/625 - 3s - loss: 0.1704 - accuracy: 0.9356 - val_loss: 0.3664 - val_accuracy: 0.8539 - 3s/epoch - 5ms/step\n",
            "Epoch 9/30\n",
            "625/625 - 3s - loss: 0.1552 - accuracy: 0.9433 - val_loss: 0.3802 - val_accuracy: 0.8515 - 3s/epoch - 5ms/step\n",
            "Epoch 10/30\n",
            "625/625 - 3s - loss: 0.1406 - accuracy: 0.9495 - val_loss: 0.3923 - val_accuracy: 0.8526 - 3s/epoch - 5ms/step\n",
            "Epoch 11/30\n",
            "625/625 - 3s - loss: 0.1287 - accuracy: 0.9542 - val_loss: 0.4073 - val_accuracy: 0.8518 - 3s/epoch - 5ms/step\n",
            "Epoch 12/30\n",
            "625/625 - 3s - loss: 0.1178 - accuracy: 0.9603 - val_loss: 0.4265 - val_accuracy: 0.8483 - 3s/epoch - 5ms/step\n",
            "Epoch 13/30\n",
            "625/625 - 3s - loss: 0.1074 - accuracy: 0.9628 - val_loss: 0.4609 - val_accuracy: 0.8398 - 3s/epoch - 5ms/step\n",
            "Epoch 14/30\n",
            "625/625 - 3s - loss: 0.0991 - accuracy: 0.9662 - val_loss: 0.4748 - val_accuracy: 0.8429 - 3s/epoch - 5ms/step\n",
            "Epoch 15/30\n",
            "625/625 - 3s - loss: 0.0917 - accuracy: 0.9689 - val_loss: 0.4942 - val_accuracy: 0.8426 - 3s/epoch - 5ms/step\n",
            "Epoch 16/30\n",
            "625/625 - 3s - loss: 0.0826 - accuracy: 0.9733 - val_loss: 0.5263 - val_accuracy: 0.8398 - 3s/epoch - 5ms/step\n",
            "Epoch 17/30\n",
            "625/625 - 3s - loss: 0.0790 - accuracy: 0.9748 - val_loss: 0.5501 - val_accuracy: 0.8360 - 3s/epoch - 5ms/step\n",
            "Epoch 18/30\n",
            "625/625 - 3s - loss: 0.0736 - accuracy: 0.9754 - val_loss: 0.5930 - val_accuracy: 0.8325 - 3s/epoch - 5ms/step\n",
            "Epoch 19/30\n",
            "625/625 - 3s - loss: 0.0655 - accuracy: 0.9797 - val_loss: 0.5987 - val_accuracy: 0.8347 - 3s/epoch - 5ms/step\n",
            "Epoch 20/30\n",
            "625/625 - 3s - loss: 0.0616 - accuracy: 0.9814 - val_loss: 0.6285 - val_accuracy: 0.8317 - 3s/epoch - 5ms/step\n",
            "Epoch 21/30\n",
            "625/625 - 3s - loss: 0.0579 - accuracy: 0.9819 - val_loss: 0.6590 - val_accuracy: 0.8305 - 3s/epoch - 5ms/step\n",
            "Epoch 22/30\n",
            "625/625 - 3s - loss: 0.0541 - accuracy: 0.9822 - val_loss: 0.7622 - val_accuracy: 0.8161 - 3s/epoch - 5ms/step\n",
            "Epoch 23/30\n",
            "625/625 - 3s - loss: 0.0477 - accuracy: 0.9868 - val_loss: 0.7165 - val_accuracy: 0.8283 - 3s/epoch - 5ms/step\n",
            "Epoch 24/30\n",
            "625/625 - 3s - loss: 0.0464 - accuracy: 0.9858 - val_loss: 0.7453 - val_accuracy: 0.8268 - 3s/epoch - 5ms/step\n",
            "Epoch 25/30\n",
            "625/625 - 3s - loss: 0.0400 - accuracy: 0.9893 - val_loss: 0.7803 - val_accuracy: 0.8231 - 3s/epoch - 5ms/step\n",
            "Epoch 26/30\n",
            "625/625 - 3s - loss: 0.0382 - accuracy: 0.9890 - val_loss: 0.8235 - val_accuracy: 0.8210 - 3s/epoch - 5ms/step\n",
            "Epoch 27/30\n",
            "625/625 - 3s - loss: 0.0371 - accuracy: 0.9895 - val_loss: 0.8488 - val_accuracy: 0.8195 - 3s/epoch - 5ms/step\n",
            "Epoch 28/30\n",
            "625/625 - 3s - loss: 0.0330 - accuracy: 0.9913 - val_loss: 0.8990 - val_accuracy: 0.8159 - 3s/epoch - 5ms/step\n",
            "Epoch 29/30\n",
            "625/625 - 3s - loss: 0.0297 - accuracy: 0.9923 - val_loss: 0.9408 - val_accuracy: 0.8150 - 3s/epoch - 5ms/step\n",
            "Epoch 30/30\n",
            "625/625 - 3s - loss: 0.0280 - accuracy: 0.9920 - val_loss: 0.9702 - val_accuracy: 0.8150 - 3s/epoch - 5ms/step\n"
          ]
        }
      ]
    },
    {
      "cell_type": "code",
      "metadata": {
        "colab": {
          "base_uri": "https://localhost:8080/",
          "height": 542
        },
        "id": "RPthZFLaeneO",
        "outputId": "93326373-f4ab-4522-bd84-645b73b73848"
      },
      "source": [
        "import matplotlib.pyplot as plt\n",
        "\n",
        "def plot_graphs(history, string):\n",
        "  plt.plot(history.history[string])\n",
        "  plt.plot(history.history['val_'+string])\n",
        "  plt.xlabel(\"Epochs\")\n",
        "  plt.ylabel(string)\n",
        "  plt.legend([string, 'val_'+string])\n",
        "  plt.show()\n",
        "\n",
        "plot_graphs(history, \"accuracy\")\n",
        "plot_graphs(history, \"loss\")"
      ],
      "execution_count": null,
      "outputs": [
        {
          "output_type": "display_data",
          "data": {
            "image/png": "[encoded data removed]",
            "text/plain": [
              "<Figure size 432x288 with 1 Axes>"
            ]
          },
          "metadata": {
            "needs_background": "light"
          }
        },
        {
          "output_type": "display_data",
          "data": {
            "image/png": "[encoded data removed]",
            "text/plain": [
              "<Figure size 432x288 with 1 Axes>"
            ]
          },
          "metadata": {
            "needs_background": "light"
          }
        }
      ]
    },
    {
      "cell_type": "code",
      "metadata": {
        "colab": {
          "base_uri": "https://localhost:8080/"
        },
        "id": "k72xYPIUfldB",
        "outputId": "2b40451d-a9c9-47e7-9dd5-8bde0184caf5"
      },
      "source": [
        "reverse_word_index=dict([(value,key) for (key,value) in word_index.items()])\n",
        "\n",
        "def decode_sentence(text):\n",
        "  return ' '.join([reverse_word_index.get(i, '?') for i in text])\n",
        "\n",
        "print(decode_sentence(training_padded[0]))\n",
        "print(training_sentences[2])\n",
        "print(labels[2])"
      ],
      "execution_count": null,
      "outputs": [
        {
          "output_type": "stream",
          "name": "stdout",
          "text": [
            "former <OOV> store clerk sues over secret 'black <OOV> for minority shoppers ? ? ? ? ? ? ? ? ? ? ? ? ? ? ? ? ? ? ? ? ? ? ? ? ? ? ? ? ? ? ? ? ? ? ? ? ? ? ? ? ? ? ? ? ? ? ? ? ? ? ? ? ? ? ? ? ? ? ? ? ? ? ? ? ? ? ? ? ? ? ? ? ? ? ? ? ? ? ? ? ? ? ? ? ? ? ? ?\n",
            "mom starting to fear son's web series closest thing she will have to grandchild\n",
            "1\n"
          ]
        }
      ]
    },
    {
      "cell_type": "code",
      "metadata": {
        "colab": {
          "base_uri": "https://localhost:8080/"
        },
        "id": "AlGJxm1shsHB",
        "outputId": "34b58f40-016c-4ecf-fd28-84625399e0a9"
      },
      "source": [
        "e=model.layers[0]\n",
        "weights=e.get_weights()[0]\n",
        "print(weights.shape)  # shape: (vocab_size, embedding_dim)"
      ],
      "execution_count": null,
      "outputs": [
        {
          "output_type": "stream",
          "name": "stdout",
          "text": [
            "(10000, 16)\n"
          ]
        }
      ]
    },
    {
      "cell_type": "code",
      "metadata": {
        "id": "VyXHPlORiHyE"
      },
      "source": [
        "import io\n",
        "\n",
        "out_v=io.open('vecs.tsv', 'w', encoding='utf-8')\n",
        "out_m=io.open('meta.tsv', 'w', encoding='utf-8')\n",
        "for word_num in range(1,vocab_size):\n",
        "  word=reverse_word_index[word_num]\n",
        "  embeddings=weights[word_num]\n",
        "  out_m.write(word + \"\\n\")\n",
        "  out_v.write('\\t'.join([str(x) for x in embeddings])+ \"\\n\")\n",
        "out_v.close()\n",
        "out_m.close()"
      ],
      "execution_count": null,
      "outputs": []
    },
    {
      "cell_type": "code",
      "metadata": {
        "id": "IOl0kBv5jA2O",
        "colab": {
          "base_uri": "https://localhost:8080/",
          "height": 17
        },
        "outputId": "d5153595-bbce-4bc9-bd49-ffba88d00bc5"
      },
      "source": [
        "try:\n",
        "  from google.colab import files\n",
        "except ImportError:\n",
        "  pass\n",
        "else:\n",
        "  files.download('vecs.tsv')\n",
        "  files.download('meta.tsv')\n",
        "    "
      ],
      "execution_count": null,
      "outputs": [
        {
          "output_type": "display_data",
          "data": {
            "application/javascript": [
              "\n",
              "    async function download(id, filename, size) {\n",
              "      if (!google.colab.kernel.accessAllowed) {\n",
              "        return;\n",
              "      }\n",
              "      const div = document.createElement('div');\n",
              "      const label = document.createElement('label');\n",
              "      label.textContent = `Downloading \"${filename}\": `;\n",
              "      div.appendChild(label);\n",
              "      const progress = document.createElement('progress');\n",
              "      progress.max = size;\n",
              "      div.appendChild(progress);\n",
              "      document.body.appendChild(div);\n",
              "\n",
              "      const buffers = [];\n",
              "      let downloaded = 0;\n",
              "\n",
              "      const channel = await google.colab.kernel.comms.open(id);\n",
              "      // Send a message to notify the kernel that we're ready.\n",
              "      channel.send({})\n",
              "\n",
              "      for await (const message of channel.messages) {\n",
              "        // Send a message to notify the kernel that we're ready.\n",
              "        channel.send({})\n",
              "        if (message.buffers) {\n",
              "          for (const buffer of message.buffers) {\n",
              "            buffers.push(buffer);\n",
              "            downloaded += buffer.byteLength;\n",
              "            progress.value = downloaded;\n",
              "          }\n",
              "        }\n",
              "      }\n",
              "      const blob = new Blob(buffers, {type: 'application/binary'});\n",
              "      const a = document.createElement('a');\n",
              "      a.href = window.URL.createObjectURL(blob);\n",
              "      a.download = filename;\n",
              "      div.appendChild(a);\n",
              "      a.click();\n",
              "      div.remove();\n",
              "    }\n",
              "  "
            ],
            "text/plain": [
              "<IPython.core.display.Javascript object>"
            ]
          },
          "metadata": {}
        },
        {
          "output_type": "display_data",
          "data": {
            "application/javascript": [
              "download(\"download_6f1dc269-7640-4392-8f23-150a669a6d22\", \"vecs.tsv\", 1806624)"
            ],
            "text/plain": [
              "<IPython.core.display.Javascript object>"
            ]
          },
          "metadata": {}
        },
        {
          "output_type": "display_data",
          "data": {
            "application/javascript": [
              "\n",
              "    async function download(id, filename, size) {\n",
              "      if (!google.colab.kernel.accessAllowed) {\n",
              "        return;\n",
              "      }\n",
              "      const div = document.createElement('div');\n",
              "      const label = document.createElement('label');\n",
              "      label.textContent = `Downloading \"${filename}\": `;\n",
              "      div.appendChild(label);\n",
              "      const progress = document.createElement('progress');\n",
              "      progress.max = size;\n",
              "      div.appendChild(progress);\n",
              "      document.body.appendChild(div);\n",
              "\n",
              "      const buffers = [];\n",
              "      let downloaded = 0;\n",
              "\n",
              "      const channel = await google.colab.kernel.comms.open(id);\n",
              "      // Send a message to notify the kernel that we're ready.\n",
              "      channel.send({})\n",
              "\n",
              "      for await (const message of channel.messages) {\n",
              "        // Send a message to notify the kernel that we're ready.\n",
              "        channel.send({})\n",
              "        if (message.buffers) {\n",
              "          for (const buffer of message.buffers) {\n",
              "            buffers.push(buffer);\n",
              "            downloaded += buffer.byteLength;\n",
              "            progress.value = downloaded;\n",
              "          }\n",
              "        }\n",
              "      }\n",
              "      const blob = new Blob(buffers, {type: 'application/binary'});\n",
              "      const a = document.createElement('a');\n",
              "      a.href = window.URL.createObjectURL(blob);\n",
              "      a.download = filename;\n",
              "      div.appendChild(a);\n",
              "      a.click();\n",
              "      div.remove();\n",
              "    }\n",
              "  "
            ],
            "text/plain": [
              "<IPython.core.display.Javascript object>"
            ]
          },
          "metadata": {}
        },
        {
          "output_type": "display_data",
          "data": {
            "application/javascript": [
              "download(\"download_b71bcfa2-2d02-4b2a-860c-9b6b248b07a6\", \"meta.tsv\", 75974)"
            ],
            "text/plain": [
              "<IPython.core.display.Javascript object>"
            ]
          },
          "metadata": {}
        }
      ]
    },
    {
      "cell_type": "code",
      "metadata": {
        "id": "InBTeq9MjQLw",
        "colab": {
          "base_uri": "https://localhost:8080/"
        },
        "outputId": "6b44334e-a45b-432f-d2a3-220f93423188"
      },
      "source": [
        "sentence=[\"granny starting to fear spiders in the garden might be real\", \"game of thrones season finale showing this sunday night\"]\n",
        "sequences=tokenizer.texts_to_sequences(sentence)\n",
        "padded=pad_sequences(sequences, maxlen=max_length, padding=padding_type, truncating=trunc_type)\n",
        "print(model.predict(padded))"
      ],
      "execution_count": null,
      "outputs": [
        {
          "output_type": "stream",
          "name": "stdout",
          "text": [
            "[[8.847437e-01]\n",
            " [5.529575e-05]]\n"
          ]
        }
      ]
    }
  ]
}