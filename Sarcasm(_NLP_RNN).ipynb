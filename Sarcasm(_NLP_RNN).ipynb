{
  "nbformat": 4,
  "nbformat_minor": 0,
  "metadata": {
    "colab": {
      "name": "Sarcasm( NLP_RNN)",
      "provenance": [],
      "collapsed_sections": [],
      "include_colab_link": true
    },
    "kernelspec": {
      "name": "python3",
      "display_name": "Python 3"
    },
    "accelerator": "GPU"
  },
  "cells": [
    {
      "cell_type": "markdown",
      "metadata": {
        "id": "view-in-github",
        "colab_type": "text"
      },
      "source": [
        "<a href=\"https://colab.research.google.com/github/aydawudu/NLP/blob/main/Sarcasm(_NLP_RNN).ipynb\" target=\"_parent\"><img src=\"https://colab.research.google.com/assets/colab-badge.svg\" alt=\"Open In Colab\"/></a>"
      ]
    },
    {
      "cell_type": "markdown",
      "metadata": {
        "id": "lnts3x4mG-Pc"
      },
      "source": [
        "# Part 15 - Lesson 2ab - Notebook"
      ]
    },
    {
      "cell_type": "code",
      "metadata": {
        "id": "jGwXGIXvFhXW",
        "colab": {
          "base_uri": "https://localhost:8080/"
        },
        "outputId": "ae2e455a-c0be-42c4-97be-cc139f829c12"
      },
      "source": [
        "import json\n",
        "import tensorflow as tf\n",
        "import numpy as np\n",
        "\n",
        "from tensorflow.keras.preprocessing.text import Tokenizer\n",
        "from tensorflow.keras.preprocessing.sequence import pad_sequences\n",
        "\n",
        "\n",
        "!wget --no-check-certificate \\\n",
        "    https://storage.googleapis.com/laurencemoroney-blog.appspot.com/sarcasm.json \\\n",
        "    -O /tmp/sarcasm.json\n",
        "\n",
        "\n"
      ],
      "execution_count": 10,
      "outputs": [
        {
          "output_type": "stream",
          "name": "stdout",
          "text": [
            "--2021-12-09 20:14:27--  https://storage.googleapis.com/laurencemoroney-blog.appspot.com/sarcasm.json\n",
            "Resolving storage.googleapis.com (storage.googleapis.com)... 74.125.133.128, 74.125.140.128, 173.194.76.128, ...\n",
            "Connecting to storage.googleapis.com (storage.googleapis.com)|74.125.133.128|:443... connected.\n",
            "HTTP request sent, awaiting response... 200 OK\n",
            "Length: 5643545 (5.4M) [application/json]\n",
            "Saving to: ‘/tmp/sarcasm.json’\n",
            "\n",
            "\r/tmp/sarcasm.json     0%[                    ]       0  --.-KB/s               \r/tmp/sarcasm.json   100%[===================>]   5.38M  --.-KB/s    in 0.06s   \n",
            "\n",
            "2021-12-09 20:14:28 (93.6 MB/s) - ‘/tmp/sarcasm.json’ saved [5643545/5643545]\n",
            "\n"
          ]
        }
      ]
    },
    {
      "cell_type": "code",
      "source": [
        ""
      ],
      "metadata": {
        "id": "hsdJ0Sms1VWo"
      },
      "execution_count": null,
      "outputs": []
    },
    {
      "cell_type": "code",
      "source": [
        "with open(\"/tmp/sarcasm.json\", 'r') as f:\n",
        "  datastore=json.load(f)\n",
        "\n",
        "\n",
        "sentences=[]\n",
        "labels=[]\n",
        "urls=[]\n",
        "\n",
        "for item in datastore:\n",
        "  sentences.append(item['headline'])\n",
        "  labels.append(item['is_sarcastic'])\n",
        "\n",
        "print(sentences[0])\n",
        "print(labels[0])\n",
        "\n"
      ],
      "metadata": {
        "colab": {
          "base_uri": "https://localhost:8080/"
        },
        "id": "VsWz6w3ppKXk",
        "outputId": "e8f5bf09-0c60-494e-e2cb-a020fa983560"
      },
      "execution_count": 11,
      "outputs": [
        {
          "output_type": "stream",
          "name": "stdout",
          "text": [
            "former versace store clerk sues over secret 'black code' for minority shoppers\n",
            "0\n"
          ]
        }
      ]
    },
    {
      "cell_type": "code",
      "source": [
        "vocab_size=1000\n",
        "embedding_dim=16\n",
        "max_length=120\n",
        "trunc_type='post'\n",
        "padding_type='post'\n",
        "oov_tok=\"<OOV>\"\n",
        "training_size=20000\n",
        "\n",
        "training_sentences=sentences[0:training_size]\n",
        "testing_sentences=sentences[training_size:]\n",
        "training_labels=labels[0:training_size]\n",
        "testing_labels=labels[training_size:]\n",
        "\n",
        "tokenizer=Tokenizer(num_words=vocab_size, oov_token=oov_tok)\n",
        "tokenizer.fit_on_texts(training_sentences)\n",
        "\n",
        "word_index=tokenizer.word_index\n",
        "\n",
        "training_sequences=tokenizer.texts_to_sequences(training_sentences)\n",
        "training_padded=pad_sequences(training_sequences, maxlen=max_length, padding=padding_type, truncating=trunc_type)\n",
        "\n",
        "testing_sequences=tokenizer.texts_to_sequences(testing_sentences)\n",
        "testing_padded=pad_sequences(testing_sequences, maxlen=max_length,padding=padding_type, truncating=trunc_type )\n",
        "\n",
        "training_padded = np.array(training_padded)\n",
        "training_labels = np.array(training_labels)\n",
        "testing_padded = np.array(testing_padded)\n",
        "testing_labels = np.array(testing_labels)\n"
      ],
      "metadata": {
        "id": "DC38HgGdqjDO"
      },
      "execution_count": 12,
      "outputs": []
    },
    {
      "cell_type": "code",
      "source": [
        "model=tf.keras.Sequential([\n",
        "    tf.keras.layers.Embedding(vocab_size, embedding_dim, input_length=max_length),\n",
        "    tf.keras.layers.Bidirectional(tf.keras.layers.LSTM(32)),\n",
        "    tf.keras.layers.Dense(24, activation='relu'),\n",
        "    tf.keras.layers.Dense(1, activation='sigmoid')\n",
        "])\n",
        "\n",
        "model.compile(loss='binary_crossentropy', optimizer='adam', metrics=['accuracy'])\n",
        "model.summary()"
      ],
      "metadata": {
        "colab": {
          "base_uri": "https://localhost:8080/"
        },
        "id": "QCxGgqLuzaWi",
        "outputId": "028bb347-7249-4a0e-cfd4-2f1f97df86fb"
      },
      "execution_count": 13,
      "outputs": [
        {
          "output_type": "stream",
          "name": "stdout",
          "text": [
            "Model: \"sequential_1\"\n",
            "_________________________________________________________________\n",
            " Layer (type)                Output Shape              Param #   \n",
            "=================================================================\n",
            " embedding_1 (Embedding)     (None, 120, 16)           16000     \n",
            "                                                                 \n",
            " bidirectional_1 (Bidirectio  (None, 64)               12544     \n",
            " nal)                                                            \n",
            "                                                                 \n",
            " dense_2 (Dense)             (None, 24)                1560      \n",
            "                                                                 \n",
            " dense_3 (Dense)             (None, 1)                 25        \n",
            "                                                                 \n",
            "=================================================================\n",
            "Total params: 30,129\n",
            "Trainable params: 30,129\n",
            "Non-trainable params: 0\n",
            "_________________________________________________________________\n"
          ]
        }
      ]
    },
    {
      "cell_type": "code",
      "source": [
        "num_epochs=50\n",
        "history=model.fit(training_padded, training_labels, epochs=num_epochs, validation_data=(testing_padded, testing_labels), verbose=1)"
      ],
      "metadata": {
        "colab": {
          "base_uri": "https://localhost:8080/"
        },
        "id": "ULJFGrPG0zzy",
        "outputId": "60f37386-6185-47af-e163-f51e18412978"
      },
      "execution_count": 14,
      "outputs": [
        {
          "output_type": "stream",
          "name": "stdout",
          "text": [
            "Epoch 1/50\n",
            "625/625 [==============================] - 47s 65ms/step - loss: 0.4552 - accuracy: 0.7647 - val_loss: 0.3995 - val_accuracy: 0.8158\n",
            "Epoch 2/50\n",
            "625/625 [==============================] - 39s 63ms/step - loss: 0.3633 - accuracy: 0.8349 - val_loss: 0.3901 - val_accuracy: 0.8207\n",
            "Epoch 3/50\n",
            "625/625 [==============================] - 40s 63ms/step - loss: 0.3456 - accuracy: 0.8423 - val_loss: 0.3835 - val_accuracy: 0.8217\n",
            "Epoch 4/50\n",
            "625/625 [==============================] - 39s 63ms/step - loss: 0.3239 - accuracy: 0.8542 - val_loss: 0.3748 - val_accuracy: 0.8317\n",
            "Epoch 5/50\n",
            "625/625 [==============================] - 39s 63ms/step - loss: 0.3081 - accuracy: 0.8625 - val_loss: 0.3757 - val_accuracy: 0.8286\n",
            "Epoch 6/50\n",
            "625/625 [==============================] - 40s 63ms/step - loss: 0.2978 - accuracy: 0.8669 - val_loss: 0.3756 - val_accuracy: 0.8319\n",
            "Epoch 7/50\n",
            "625/625 [==============================] - 39s 63ms/step - loss: 0.2881 - accuracy: 0.8730 - val_loss: 0.3773 - val_accuracy: 0.8326\n",
            "Epoch 8/50\n",
            "625/625 [==============================] - 40s 63ms/step - loss: 0.2796 - accuracy: 0.8781 - val_loss: 0.3853 - val_accuracy: 0.8252\n",
            "Epoch 9/50\n",
            "625/625 [==============================] - 39s 63ms/step - loss: 0.2740 - accuracy: 0.8806 - val_loss: 0.3898 - val_accuracy: 0.8275\n",
            "Epoch 10/50\n",
            "625/625 [==============================] - 40s 63ms/step - loss: 0.2669 - accuracy: 0.8852 - val_loss: 0.3962 - val_accuracy: 0.8261\n",
            "Epoch 11/50\n",
            "625/625 [==============================] - 39s 63ms/step - loss: 0.2611 - accuracy: 0.8875 - val_loss: 0.4047 - val_accuracy: 0.8265\n",
            "Epoch 12/50\n",
            "625/625 [==============================] - 39s 63ms/step - loss: 0.2572 - accuracy: 0.8888 - val_loss: 0.4012 - val_accuracy: 0.8255\n",
            "Epoch 13/50\n",
            "625/625 [==============================] - 39s 63ms/step - loss: 0.2524 - accuracy: 0.8924 - val_loss: 0.4048 - val_accuracy: 0.8247\n",
            "Epoch 14/50\n",
            "625/625 [==============================] - 40s 63ms/step - loss: 0.2456 - accuracy: 0.8933 - val_loss: 0.4295 - val_accuracy: 0.8220\n",
            "Epoch 15/50\n",
            "625/625 [==============================] - 39s 63ms/step - loss: 0.2402 - accuracy: 0.8978 - val_loss: 0.4397 - val_accuracy: 0.8238\n",
            "Epoch 16/50\n",
            "625/625 [==============================] - 39s 63ms/step - loss: 0.2310 - accuracy: 0.9019 - val_loss: 0.4406 - val_accuracy: 0.8238\n",
            "Epoch 17/50\n",
            "625/625 [==============================] - 39s 63ms/step - loss: 0.2228 - accuracy: 0.9068 - val_loss: 0.4588 - val_accuracy: 0.8193\n",
            "Epoch 18/50\n",
            "625/625 [==============================] - 40s 63ms/step - loss: 0.2157 - accuracy: 0.9101 - val_loss: 0.4653 - val_accuracy: 0.8188\n",
            "Epoch 19/50\n",
            "625/625 [==============================] - 40s 63ms/step - loss: 0.2081 - accuracy: 0.9121 - val_loss: 0.4854 - val_accuracy: 0.8190\n",
            "Epoch 20/50\n",
            "625/625 [==============================] - 39s 63ms/step - loss: 0.1992 - accuracy: 0.9149 - val_loss: 0.4988 - val_accuracy: 0.8161\n",
            "Epoch 21/50\n",
            "625/625 [==============================] - 39s 62ms/step - loss: 0.1913 - accuracy: 0.9208 - val_loss: 0.5450 - val_accuracy: 0.8107\n",
            "Epoch 22/50\n",
            "625/625 [==============================] - 40s 63ms/step - loss: 0.1872 - accuracy: 0.9207 - val_loss: 0.5189 - val_accuracy: 0.8128\n",
            "Epoch 23/50\n",
            "625/625 [==============================] - 40s 63ms/step - loss: 0.1773 - accuracy: 0.9259 - val_loss: 0.5855 - val_accuracy: 0.8128\n",
            "Epoch 24/50\n",
            "625/625 [==============================] - 39s 63ms/step - loss: 0.1717 - accuracy: 0.9293 - val_loss: 0.6197 - val_accuracy: 0.8083\n",
            "Epoch 25/50\n",
            "625/625 [==============================] - 39s 63ms/step - loss: 0.1652 - accuracy: 0.9313 - val_loss: 0.6018 - val_accuracy: 0.8101\n",
            "Epoch 26/50\n",
            "625/625 [==============================] - 39s 63ms/step - loss: 0.1573 - accuracy: 0.9348 - val_loss: 0.6503 - val_accuracy: 0.8110\n",
            "Epoch 27/50\n",
            "625/625 [==============================] - 39s 63ms/step - loss: 0.1527 - accuracy: 0.9367 - val_loss: 0.6921 - val_accuracy: 0.8094\n",
            "Epoch 28/50\n",
            "625/625 [==============================] - 40s 63ms/step - loss: 0.1462 - accuracy: 0.9401 - val_loss: 0.7342 - val_accuracy: 0.8074\n",
            "Epoch 29/50\n",
            "625/625 [==============================] - 40s 63ms/step - loss: 0.1422 - accuracy: 0.9420 - val_loss: 0.7436 - val_accuracy: 0.8082\n",
            "Epoch 30/50\n",
            "625/625 [==============================] - 40s 63ms/step - loss: 0.1391 - accuracy: 0.9431 - val_loss: 0.8375 - val_accuracy: 0.8049\n",
            "Epoch 31/50\n",
            "625/625 [==============================] - 39s 63ms/step - loss: 0.1327 - accuracy: 0.9449 - val_loss: 0.8585 - val_accuracy: 0.8077\n",
            "Epoch 32/50\n",
            "625/625 [==============================] - 40s 63ms/step - loss: 0.1251 - accuracy: 0.9491 - val_loss: 0.8082 - val_accuracy: 0.8055\n",
            "Epoch 33/50\n",
            "625/625 [==============================] - 40s 64ms/step - loss: 0.1219 - accuracy: 0.9493 - val_loss: 0.9466 - val_accuracy: 0.8052\n",
            "Epoch 34/50\n",
            "625/625 [==============================] - 40s 65ms/step - loss: 0.1161 - accuracy: 0.9524 - val_loss: 0.9471 - val_accuracy: 0.7956\n",
            "Epoch 35/50\n",
            "625/625 [==============================] - 40s 64ms/step - loss: 0.1161 - accuracy: 0.9525 - val_loss: 0.9413 - val_accuracy: 0.7989\n",
            "Epoch 36/50\n",
            "625/625 [==============================] - 40s 64ms/step - loss: 0.1061 - accuracy: 0.9554 - val_loss: 1.0200 - val_accuracy: 0.8025\n",
            "Epoch 37/50\n",
            "625/625 [==============================] - 40s 64ms/step - loss: 0.1041 - accuracy: 0.9564 - val_loss: 1.1028 - val_accuracy: 0.7985\n",
            "Epoch 38/50\n",
            "625/625 [==============================] - 40s 64ms/step - loss: 0.0971 - accuracy: 0.9596 - val_loss: 1.1125 - val_accuracy: 0.7992\n",
            "Epoch 39/50\n",
            "625/625 [==============================] - 40s 64ms/step - loss: 0.0966 - accuracy: 0.9604 - val_loss: 1.1770 - val_accuracy: 0.8024\n",
            "Epoch 40/50\n",
            "625/625 [==============================] - 40s 64ms/step - loss: 0.0897 - accuracy: 0.9620 - val_loss: 1.2275 - val_accuracy: 0.7979\n",
            "Epoch 41/50\n",
            "625/625 [==============================] - 40s 64ms/step - loss: 0.0870 - accuracy: 0.9639 - val_loss: 1.3837 - val_accuracy: 0.7953\n",
            "Epoch 42/50\n",
            "625/625 [==============================] - 40s 64ms/step - loss: 0.0900 - accuracy: 0.9625 - val_loss: 1.3204 - val_accuracy: 0.7997\n",
            "Epoch 43/50\n",
            "625/625 [==============================] - 40s 64ms/step - loss: 0.0771 - accuracy: 0.9671 - val_loss: 1.2919 - val_accuracy: 0.8007\n",
            "Epoch 44/50\n",
            "625/625 [==============================] - 40s 64ms/step - loss: 0.0809 - accuracy: 0.9668 - val_loss: 1.4487 - val_accuracy: 0.7956\n",
            "Epoch 45/50\n",
            "625/625 [==============================] - 40s 64ms/step - loss: 0.0742 - accuracy: 0.9690 - val_loss: 1.4461 - val_accuracy: 0.7988\n",
            "Epoch 46/50\n",
            "625/625 [==============================] - 40s 64ms/step - loss: 0.0757 - accuracy: 0.9685 - val_loss: 1.4273 - val_accuracy: 0.7992\n",
            "Epoch 47/50\n",
            "625/625 [==============================] - 40s 64ms/step - loss: 0.0709 - accuracy: 0.9707 - val_loss: 1.5818 - val_accuracy: 0.7965\n",
            "Epoch 48/50\n",
            "625/625 [==============================] - 40s 64ms/step - loss: 0.0670 - accuracy: 0.9715 - val_loss: 1.5875 - val_accuracy: 0.7988\n",
            "Epoch 49/50\n",
            "625/625 [==============================] - 40s 64ms/step - loss: 0.0706 - accuracy: 0.9700 - val_loss: 1.5152 - val_accuracy: 0.7991\n",
            "Epoch 50/50\n",
            "625/625 [==============================] - 40s 64ms/step - loss: 0.0624 - accuracy: 0.9737 - val_loss: 1.6040 - val_accuracy: 0.7930\n"
          ]
        }
      ]
    },
    {
      "cell_type": "code",
      "source": [
        "import matplotlib.pyplot as plt\n",
        "\n",
        "def plot_graphs(history, string):\n",
        "  plt.plot(history.history[string])\n",
        "  plt.plot(history.history['val_'+string])\n",
        "  plt.xlabel(\"Epochs\")\n",
        "  plt.ylabel(string)\n",
        "  plt.legend([string, 'val'+string])\n",
        "  plt.show()\n",
        "\n",
        "plot_graphs(history, 'accuracy')\n",
        "plot_graphs(history, 'loss')"
      ],
      "metadata": {
        "colab": {
          "base_uri": "https://localhost:8080/",
          "height": 541
        },
        "id": "xYF_2VVn1WSn",
        "outputId": "3be2dd3d-1cdc-44eb-e1d3-48da828f0ee1"
      },
      "execution_count": 16,
      "outputs": [
        {
          "output_type": "display_data",
          "data": {
            "image/png": "[encoded data removed]",
            "text/plain": [
              "<Figure size 432x288 with 1 Axes>"
            ]
          },
          "metadata": {
            "needs_background": "light"
          }
        },
        {
          "output_type": "display_data",
          "data": {
            "image/png": "[encoded data removed]",
            "text/plain": [
              "<Figure size 432x288 with 1 Axes>"
            ]
          },
          "metadata": {
            "needs_background": "light"
          }
        }
      ]
    }
  ]
}